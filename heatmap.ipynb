{
 "cells": [
  {
   "cell_type": "code",
   "execution_count": 4,
   "id": "e7d0118f",
   "metadata": {},
   "outputs": [
    {
     "name": "stdout",
     "output_type": "stream",
     "text": [
      "                               stop_name   stop_lat    stop_lon\n",
      "0  Hutchison Drive & Old Davis Road (EB)  38.540031 -121.746053\n",
      "1  Hutchison Drive & Old Davis Road (WB)  38.540158 -121.746139\n",
      "2          1st St & C St / Downtown (EB)  38.541523 -121.742543\n",
      "3          1st St & D St / Downtown (WB)  38.541818 -121.742051\n",
      "4       Richards Blvd & Olive Drive (SB)  38.540645 -121.738537\n"
     ]
    }
   ],
   "source": [
    "import pandas as pd\n",
    "\n",
    "# Load stops.txt from your extracted GTFS folder\n",
    "stops = pd.read_csv(\"gtfs_data/stops.txt\")\n",
    "\n",
    "# Optional: preview\n",
    "print(stops[['stop_name', 'stop_lat', 'stop_lon']].head())\n"
   ]
  },
  {
   "cell_type": "code",
   "execution_count": 5,
   "id": "83e52105",
   "metadata": {},
   "outputs": [],
   "source": [
    "import folium\n",
    "from folium.plugins import HeatMap\n",
    "\n",
    "# Create base map centered on UC Davis\n",
    "ucd_map = folium.Map(location=[38.5449, -121.7405], zoom_start=15)\n",
    "\n",
    "# Get list of lat/lon pairs\n",
    "heat_data = stops[['stop_lat', 'stop_lon']].dropna().values.tolist()\n",
    "\n",
    "# Add heat layer\n",
    "HeatMap(heat_data).add_to(ucd_map)\n",
    "\n",
    "# Save the map\n",
    "ucd_map.save(\"images/unitrans_stop_density_heatmap.html\")\n"
   ]
  }
 ],
 "metadata": {
  "kernelspec": {
   "display_name": "Python 3",
   "language": "python",
   "name": "python3"
  },
  "language_info": {
   "codemirror_mode": {
    "name": "ipython",
    "version": 3
   },
   "file_extension": ".py",
   "mimetype": "text/x-python",
   "name": "python",
   "nbconvert_exporter": "python",
   "pygments_lexer": "ipython3",
   "version": "3.13.1"
  }
 },
 "nbformat": 4,
 "nbformat_minor": 5
}
